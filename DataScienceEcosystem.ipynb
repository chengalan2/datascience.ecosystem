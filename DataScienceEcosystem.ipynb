{
  "metadata": {
    "kernelspec": {
      "name": "python",
      "display_name": "Python (Pyodide)",
      "language": "python"
    },
    "language_info": {
      "codemirror_mode": {
        "name": "python",
        "version": 3
      },
      "file_extension": ".py",
      "mimetype": "text/x-python",
      "name": "python",
      "nbconvert_exporter": "python",
      "pygments_lexer": "ipython3",
      "version": "3.8"
    }
  },
  "nbformat_minor": 5,
  "nbformat": 4,
  "cells": [
    {
      "id": "52169d26-5c1b-42bf-934a-de9c7249b93b",
      "cell_type": "markdown",
      "source": "# Data Science Tools and Ecosystem",
      "metadata": {}
    },
    {
      "id": "a7673e21-af84-4296-8bac-0e987eacba29",
      "cell_type": "markdown",
      "source": "In this notebook, Data Science Tools and Ecosystem are summarized.",
      "metadata": {}
    },
    {
      "id": "2378c127-b4c4-4cba-a8d9-a2ec3c3f201c",
      "cell_type": "markdown",
      "source": "Some of the commonly used libraries used by Data Scientists include:\n1. NumPy\n2. Scikit-learn\n3. TensorFlow",
      "metadata": {}
    },
    {
      "id": "82116085-5f9d-4e79-8196-9595565390e2",
      "cell_type": "markdown",
      "source": "Some of the popular languages that Data Scientists use are:\n1. Python\n2. R\n3. SQL",
      "metadata": {}
    },
    {
      "id": "8b1890bb-cd5a-45de-a1e0-aa57d8313e3d",
      "cell_type": "markdown",
      "source": "| Data Science Tools |\n| :---: |\n| Apache Spark |\n| RStudio |\n| Jupyter Notebook |",
      "metadata": {}
    },
    {
      "id": "e006e054-d2e1-44bb-b42a-e4a29fe46431",
      "cell_type": "markdown",
      "source": "### Below are a few examples of evaluating arithmetic expressions in Python",
      "metadata": {}
    },
    {
      "id": "36096cac-ccf2-4fe7-9b7d-9d1aa171b664",
      "cell_type": "code",
      "source": "#This is a simple arithmetic expression to multiply then add integers\n(3*4)+5",
      "metadata": {
        "trusted": true
      },
      "outputs": [
        {
          "execution_count": 4,
          "output_type": "execute_result",
          "data": {
            "text/plain": "17"
          },
          "metadata": {}
        }
      ],
      "execution_count": 4
    },
    {
      "id": "1af7c2a8-e136-457a-a7a2-5d37912ebbce",
      "cell_type": "code",
      "source": "#This will convert 200 minutes to hours by dividing by 60\n200/60",
      "metadata": {
        "trusted": true
      },
      "outputs": [
        {
          "execution_count": 5,
          "output_type": "execute_result",
          "data": {
            "text/plain": "3.3333333333333335"
          },
          "metadata": {}
        }
      ],
      "execution_count": 5
    },
    {
      "id": "8fe6fcc2-ab85-45df-a4ed-a92eca3c2673",
      "cell_type": "markdown",
      "source": "**Objectives:**\n- List popular languages for Data Science\n- List popular tools for Data Science\n- Know how to use Jupyter Notebook",
      "metadata": {}
    },
    {
      "id": "035fc6ef-099a-42e6-9293-6fde8bfc1380",
      "cell_type": "markdown",
      "source": "## Author\nAlan",
      "metadata": {}
    },
    {
      "id": "a007a5fc-ff1f-4a96-bf3c-693f7d34ae10",
      "cell_type": "code",
      "source": "",
      "metadata": {
        "trusted": true
      },
      "outputs": [],
      "execution_count": null
    }
  ]
}